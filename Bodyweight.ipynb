{
 "cells": [
  {
   "cell_type": "code",
   "execution_count": 1,
   "id": "8e0bbb8f-794c-444d-b097-80a09797d519",
   "metadata": {},
   "outputs": [
    {
     "data": {
      "application/vnd.jupyter.widget-view+json": {
       "model_id": "a849971937b649b3909cbd60917766cf",
       "version_major": 2,
       "version_minor": 0
      },
      "text/plain": [
       "VBox(children=(Checkbox(value=False, description=\"('C57', 'M', '2021_27', 'A_Eudragit | 404 ppm')\", layout=Lay…"
      ]
     },
     "metadata": {},
     "output_type": "display_data"
    },
    {
     "data": {
      "application/vnd.jupyter.widget-view+json": {
       "model_id": "89700985fc50489dafe53d4c7c41eb4b",
       "version_major": 2,
       "version_minor": 0
      },
      "text/plain": [
       "HBox(children=(Button(description='Update Plot', style=ButtonStyle()), Button(description='Save Plot', style=B…"
      ]
     },
     "metadata": {},
     "output_type": "display_data"
    },
    {
     "data": {
      "application/vnd.jupyter.widget-view+json": {
       "model_id": "30caa210d400435c930d3559fc49541b",
       "version_major": 2,
       "version_minor": 0
      },
      "text/plain": [
       "Output()"
      ]
     },
     "metadata": {},
     "output_type": "display_data"
    }
   ],
   "source": [
    "import pandas as pd\n",
    "import matplotlib.pyplot as plt\n",
    "import ipywidgets as widgets\n",
    "from IPython.display import display, clear_output, FileLink\n",
    "\n",
    "# Read the CSV file\n",
    "data = pd.read_csv(\"ALL_MICE.csv\")\n",
    "\n",
    "# Data preprocessing\n",
    "data['Background'] = data['Background'].replace({'C57BL/6': 'C57', 'HET3': 'H3'})\n",
    "data['Gender'] = data['Gender'].replace({'Male': 'M', 'Female': 'F'})\n",
    "data['Batch'] = data['Batch'].str.extract(r'E_(\\d{4}_\\d+)_')[0]\n",
    "data['Name Treatment'] = data['Name Treatment'].fillna('0')\n",
    "data['Code'] = data['Code'].fillna('0')\n",
    "data['Code'] = data['Code'] + '_' + data['Name Treatment']\n",
    "\n",
    "# Define weight columns\n",
    "weight_columns = [\n",
    "    \"1\", \"1.5\", \"2\", \"3\", \"4\", \"4.5\", \"5\", \"6\", \"8\", \"9\", \"10\",\n",
    "    \"12\", \"14\", \"15\", \"16\", \"17\", \"18\", \"19\", \"20\", \"21\", \"22\",\n",
    "    \"23\", \"24\", \"25\", \"26\", \"27\", \"28\", \"29\", \"30\", \"31\", \"32\",\n",
    "    \"33\", \"34\", \"35\", \"36\", \"37\", \"38\", \"39\", \"40\", \"41\", \"42\"\n",
    "]\n",
    "weight_columns_float = [float(x) for x in weight_columns]\n",
    "\n",
    "# Group the data\n",
    "grouped = data.groupby([\"Background\", \"Gender\", \"Batch\", \"Code\"])\n",
    "\n",
    "# Create a mapping from checkboxes to group names\n",
    "checkbox_to_group = {}\n",
    "checkboxes = []\n",
    "for name in grouped.groups.keys():\n",
    "    cb = widgets.Checkbox(value=False, description=str(name), layout=widgets.Layout(width='600px'))\n",
    "    checkboxes.append(cb)\n",
    "    checkbox_to_group[cb] = name\n",
    "\n",
    "# Create a scrollable container for the checkboxes\n",
    "cb_container = widgets.VBox(checkboxes, layout={'overflow': 'scroll'})\n",
    "display(cb_container)\n",
    "\n",
    "# Create an output widget for the plot\n",
    "output = widgets.Output()\n",
    "\n",
    "# Update plot function\n",
    "current_fig = None\n",
    "\n",
    "def update_plot(change):\n",
    "    global current_fig\n",
    "    with output:\n",
    "        clear_output(wait=True)\n",
    "        current_fig, ax = plt.subplots(figsize=(12, 8))\n",
    "        \n",
    "        for cb in checkboxes:\n",
    "            if cb.value:\n",
    "                name = checkbox_to_group[cb]\n",
    "                group = grouped.get_group(name)\n",
    "                avg_weights = group[weight_columns].mean()\n",
    "                \n",
    "                # Determine the last valid age with data\n",
    "                last_valid_age = avg_weights.last_valid_index()\n",
    "                if last_valid_age is not None:\n",
    "                    last_valid_index = weight_columns.index(last_valid_age)\n",
    "                    valid_ages_float = weight_columns_float[:last_valid_index + 1]\n",
    "                    avg_weights = avg_weights[:last_valid_index + 1]\n",
    "                    \n",
    "                    # Interpolate missing values within the range of actual data\n",
    "                    interpolated_weights = avg_weights.interpolate(method='linear')\n",
    "                    \n",
    "                    # Calculate SEM only for the valid ages\n",
    "                    sem_weights = group[weight_columns].sem()[:last_valid_index + 1]\n",
    "                    \n",
    "                    # Plot the data with error bars\n",
    "                    ax.errorbar(valid_ages_float, interpolated_weights, yerr=sem_weights, label=str(name), fmt='-o', capsize=5)\n",
    "        \n",
    "        ax.set_xlabel('Age (months)')\n",
    "        ax.set_ylabel('Average Body Weight (grams)')\n",
    "        ax.set_title('Average Body Weight over Time with SEM')\n",
    "        ax.legend(title='Group', bbox_to_anchor=(1.05, 1), loc='upper left')\n",
    "        ax.set_xticks(weight_columns_float)\n",
    "        ax.set_xticklabels(weight_columns, rotation='vertical')\n",
    "        ax.set_ylim(0, 60)\n",
    "        ax.grid(True)\n",
    "        plt.tight_layout()\n",
    "        plt.show()\n",
    "\n",
    "# Button to update the plot\n",
    "update_button = widgets.Button(description=\"Update Plot\")\n",
    "update_button.on_click(update_plot)\n",
    "\n",
    "# Function to save the plot\n",
    "def save_plot(b):\n",
    "    global current_fig\n",
    "    if current_fig:\n",
    "        file_path = r\"C:\\Users\\epite\\OneDrive - EpiTERNA\\Documentos\\Desktop\\EPITERNA Scripts\\figure\\figure.png\"\n",
    "        current_fig.savefig(file_path)\n",
    "        print(f\"Plot saved to {file_path}\")\n",
    "        \n",
    "# Buttons for updating and saving the plot\n",
    "update_button = widgets.Button(description=\"Update Plot\")\n",
    "update_button.on_click(update_plot)\n",
    "\n",
    "save_button = widgets.Button(description=\"Save Plot\")\n",
    "save_button.on_click(save_plot)\n",
    "\n",
    "# Displaying everything\n",
    "display(widgets.HBox([update_button, save_button]), output)\n"
   ]
  },
  {
   "cell_type": "code",
   "execution_count": null,
   "id": "32a1a6c8-099c-497c-b2d1-a3fef2dd6442",
   "metadata": {},
   "outputs": [],
   "source": []
  }
 ],
 "metadata": {
  "kernelspec": {
   "display_name": "Python 3 (ipykernel)",
   "language": "python",
   "name": "python3"
  },
  "language_info": {
   "codemirror_mode": {
    "name": "ipython",
    "version": 3
   },
   "file_extension": ".py",
   "mimetype": "text/x-python",
   "name": "python",
   "nbconvert_exporter": "python",
   "pygments_lexer": "ipython3",
   "version": "3.12.1"
  }
 },
 "nbformat": 4,
 "nbformat_minor": 5
}
